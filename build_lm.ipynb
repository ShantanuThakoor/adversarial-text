{
 "cells": [
  {
   "cell_type": "code",
   "execution_count": null,
   "metadata": {
    "collapsed": true
   },
   "outputs": [],
   "source": [
    "import data_util\n",
    "from tqdm import tqdm_notebook, tqdm"
   ]
  },
  {
   "cell_type": "code",
   "execution_count": null,
   "metadata": {
    "collapsed": false
   },
   "outputs": [],
   "source": [
    "import nltk\n",
    "import re\n",
    "import time"
   ]
  },
  {
   "cell_type": "code",
   "execution_count": null,
   "metadata": {
    "collapsed": false
   },
   "outputs": [],
   "source": [
    "def is_punct(s):\n",
    "    for ch in s.lower():\n",
    "        i = ord(ch)\n",
    "        if 97 <= i <= 122 or 48 <= i <= 57:\n",
    "            return False\n",
    "    return True\n",
    "\n",
    "from unidecode import unidecode\n",
    "\n",
    "def generate_tokens(dataset, partition):\n",
    "    texts, labels = data_util.load_dataset_csv_raw('dataset/{}/{}.csv'.format(dataset, partition))\n",
    "\n",
    "    with open('dataset/{}/{}.tokenized.txt'.format(dataset, partition), 'w') as fo:            \n",
    "        for text in tqdm_notebook(texts):     \n",
    "            if isinstance(text, unicode):\n",
    "                decoded_text = text\n",
    "            else:\n",
    "                decoded_text = text.decode('utf8')\n",
    "            for sent in nltk.tokenize.sent_tokenize( unidecode( decoded_text ) ):\n",
    "                tokens = [ token.lower() for token in nltk.word_tokenize(sent) ]\n",
    "                tokens[:] = [ token for token in tokens if not is_punct(token) ]\n",
    "                fo.write(' '.join(tokens) + '\\n')"
   ]
  },
  {
   "cell_type": "code",
   "execution_count": null,
   "metadata": {
    "collapsed": true
   },
   "outputs": [],
   "source": [
    "# change this to where you install the kenlm\n",
    "KENLM_PATH = \"../language_model/kenlm/build/bin\""
   ]
  },
  {
   "cell_type": "code",
   "execution_count": null,
   "metadata": {
    "collapsed": false
   },
   "outputs": [],
   "source": [
    "generate_tokens('yelp_review_polarity_csv', 'train')\n",
    "generate_tokens('amazon_review_polarity_csv', 'train')\n",
    "generate_tokens('aclImdb', 'train')\n",
    "generate_tokens('trec07p', 'train')\n",
    "for dataset_name in ['aclImdb', 'trec07p', 'yelp_review_polarity_csv', 'amazon_review_polarity_csv']:\n",
    "    !{KENLM_PATH}/lmplz -o 4 -S 10G  --text dataset/{dataset_name}/train.tokenized.txt --arpa dataset/{dataset_name}/lm.arpa\n",
    "    !{KENLM_PATH}/build_binary dataset/{dataset_name}/lm.arpa dataset/{dataset_name}lm.arpa.bin"
   ]
  }
 ],
 "metadata": {
  "kernelspec": {
   "display_name": "Python 2",
   "language": "python",
   "name": "python2"
  },
  "language_info": {
   "codemirror_mode": {
    "name": "ipython",
    "version": 2
   },
   "file_extension": ".py",
   "mimetype": "text/x-python",
   "name": "python",
   "nbconvert_exporter": "python",
   "pygments_lexer": "ipython2",
   "version": "2.7.6"
  }
 },
 "nbformat": 4,
 "nbformat_minor": 0
}
