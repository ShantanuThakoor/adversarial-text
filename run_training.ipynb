{
 "cells": [
  {
   "cell_type": "code",
   "execution_count": 15,
   "metadata": {
    "collapsed": true
   },
   "outputs": [],
   "source": [
    "from collections import namedtuple\n",
    "dataset = namedtuple('Dataset', ['x', 'y', 'vocab', 'lm'])\n",
    "import linear\n",
    "import kenlm\n",
    "import solver\n",
    "import nltk\n",
    "%matplotlib inline\n",
    "import matplotlib.pyplot as plt\n",
    "reload(solver)\n",
    "Printer = solver.Printer"
   ]
  },
  {
   "cell_type": "code",
   "execution_count": 16,
   "metadata": {
    "collapsed": false
   },
   "outputs": [],
   "source": [
    "def generate_all(models, names, dataset_word, dataset_char, n, results, lm_loss_limit=2.0, **kwargs):\n",
    "    for name in names:\n",
    "        solver.lm = dataset_word.lm\n",
    "        dataset = dataset_word\n",
    "        if name.startswith('VDCNN'):\n",
    "            dataset = dataset_char\n",
    "        if name.startswith('NB'):\n",
    "            results[name] = linear.main(models[name].clf, yelp_data, n, lm_loss_limit=lm_loss_limit, **kwargs)\n",
    "        else:\n",
    "            results[name] = solver.main(models[name], dataset.x[0:n], dataset.y[0:n], dataset.vocab, \n",
    "                                                    lm_loss_limits=(lm_loss_limit, ), latex=False, printer=solver.NullPrinter(), **kwargs)\n",
    "    return results\n",
    "def show_lm(data, results, n_samples=5, key='original_tokens'):    \n",
    "    lm_results = np.array([solver.score_paragraph(data.lm, entry[key]) for entry in results if entry['score'] > 0.5])\n",
    "    pl = lm_results[:, 0] / lm_results[:, 1]\n",
    "    indices = np.nonzero(pl > -1)[0]\n",
    "    np.random.shuffle(indices)\n",
    "    for i in indices[:n_samples]:\n",
    "        print('Sample', i, pl[i], ' '.join(results[i][key]))\n",
    "    plt.hist(pl, bins=20)\n",
    "def generate_random(model, data, n, lm_loss_limits, **kwargs):\n",
    "    solver.lm = data.lm\n",
    "    return solver.main(model, data.x[:n], data.y[:n], data.vocab, lm_loss_limits, printer=solver.NullPrinter(), method='random', **kwargs)"
   ]
  },
  {
   "cell_type": "code",
   "execution_count": 17,
   "metadata": {
    "collapsed": false
   },
   "outputs": [],
   "source": [
    "from __future__ import print_function\n",
    "def full_scores(lm, s, printer):\n",
    "    for sent in nltk.sent_tokenize(s):\n",
    "        tokens = ['<s>'] + filter(lambda x : not is_punct(x), nltk.word_tokenize(sent) ) + ['</s>']\n",
    "        printer.print(sent)\n",
    "        for i, (score, ngram, oov) in enumerate(lm.full_scores(' '.join(tokens[1:-1]), eos=True, bos=True)):\n",
    "            printer.print('{:.2f} {:.2f} {} {}'.format(score, score - lm.score(tokens[i+1], bos=False, eos=False), ' '.join(tokens[i+2-ngram: i+2]), ngram) )\n",
    "\n",
    "def encode_html(s):\n",
    "    return s.replace('<', '&lt;').replace('>', '&gt;')\n",
    "\n",
    "def is_punct(s):\n",
    "    for ch in s.lower():\n",
    "        i = ord(ch)\n",
    "        if 97 <= i <= 122 or 48 <= i <= 57:\n",
    "            return False\n",
    "    return True\n",
    "\n",
    "def parse_tokens_lm(tokens):\n",
    "    parsed_tokens = [ token.lower() for token in tokens if not is_punct(token) ]\n",
    "    return ' '.join(parsed_tokens)\n",
    "def full_classify(clf, tokens, vocab, p):\n",
    "    if not isinstance(tokens[0], str):\n",
    "        tokens = [ vocab.vocabulary_.reverse(idx) for idx in np.trim_zeros(tokens) ]\n",
    "    delta_prob = clf.feature_log_prob_[1] - clf.feature_log_prob_[0]\n",
    "    for token in tokens:\n",
    "        word_idx = vocab.vocabulary_.get(token)\n",
    "        p.print('{} ({:.2f})'.format(encode_html(token), delta_prob[word_idx]), end = ' ')\n",
    "def col(results, key):\n",
    "    return [ result[key] for result in results ]"
   ]
  },
  {
   "cell_type": "code",
   "execution_count": 18,
   "metadata": {
    "collapsed": true
   },
   "outputs": [],
   "source": [
    "from __future__ import print_function\n",
    "reload(solver)\n",
    "def score_all(data, results_dict):\n",
    "    def ppl(x):\n",
    "        return 1 / 10 ** x\n",
    "    for k, results in sorted(results_dict.iteritems()):\n",
    "        lm_results = [solver.score_paragraph(data.lm, entry['tokens']) for entry in results if entry['score'] > 0.5]\n",
    "        diffs = [ entry['diff'] / (len(entry['tokens']) + 1e-6) for entry in results if entry['score'] > 0.5]\n",
    "        lm_results = np.array(lm_results)\n",
    "        print(k, 1.0 * len(lm_results) / len(results) )\n",
    "        if len(lm_results) > 0:\n",
    "            print( np.mean(diffs), ppl(np.sum(lm_results[:, 0]) / np.sum(lm_results[:, 1]) ) )\n",
    "        \n",
    "    lm_results = [solver.score_paragraph(data.lm, entry['original_tokens']) for entry in results]\n",
    "    lm_results = np.array(lm_results)\n",
    "    print('Clean')\n",
    "    print( ppl(np.sum(lm_results[:, 0]) / np.sum(lm_results[:, 1]) ) )\n",
    "    print(len(lm_results) )"
   ]
  },
  {
   "cell_type": "markdown",
   "metadata": {},
   "source": [
    "# Train Model\n",
    "First run scripts in shell to train the models.\n",
    "Lstm models should have tag lstm\\*, convolutional model should have tag conv\\*.\n",
    "Training deep cnn use another script, -v should be 2\\*.\n",
    "```sh\n",
    "python word_model.py train --dataset yelp_review_polarity_csv --num_filters 512 --decay 2e-4 --tag lstm-mean-2 --gpu 1 --mem 0.5\n",
    "python word_model.py train --dataset yelp_review_polarity_csv --num_filters 300 --decay 2e-4 --tag conv300x1_dc2e4_l200 --gpu 1 --mem 0.5\n",
    "python deep_model.py train --dataset yelp_review_polarity_csv --blocks 1,1,1,1 -v 2-layer9-run2 --gpu 1 --mem 0.5\n",
    "```"
   ]
  },
  {
   "cell_type": "markdown",
   "metadata": {},
   "source": [
    "## Load Models"
   ]
  },
  {
   "cell_type": "code",
   "execution_count": 19,
   "metadata": {
    "collapsed": true
   },
   "outputs": [],
   "source": [
    "GPU = '1' \n",
    "#GPU = '\"\"' # CPU"
   ]
  },
  {
   "cell_type": "code",
   "execution_count": 43,
   "metadata": {
    "collapsed": false
   },
   "outputs": [
    {
     "name": "stdout",
     "output_type": "stream",
     "text": [
      "INFO:tensorflow:Restoring parameters from word/runs_yrpc/lstm-mean-2/model-7876\n",
      "Prepare for run in notebook\n",
      "INFO:tensorflow:Restoring parameters from word/runs_yrpc/conv300x1_dc2e4_l200/model-7876\n",
      "Prepare for run in notebook\n",
      "Data from dataset/yelp_review_polarity_csv/test.csv loaded.\n",
      "INFO:tensorflow:Restoring parameters from runs_yrpc/v2-layer9-run2/model-27566\n",
      "Prepare for run in notebook\n",
      "Dataset yelp_review_polarity_csv loaded ..\n",
      "0.878947368421\n"
     ]
    }
   ],
   "source": [
    "yelp_lm = kenlm.LanguageModel('dataset/yelp_review_polarity_csv/lm.arpa.bin')\n",
    "yelp_models = dict()\n",
    "\n",
    "#print('training first model')\n",
    "\n",
    "%run word_model.py notebook --dataset yelp_review_polarity_csv --num_filters 512 --decay 2e-4 --tag lstm-mean-2 --gpu {GPU} --mem 0.5\n",
    "yelp_models['LSTM'] = model\n",
    "yelp_data = dataset(x=x_shuffled, y=y_shuffled, vocab=vocab, lm=yelp_lm)\n",
    "\n",
    "#print('training second model')\n",
    "\n",
    "%run word_model.py notebook --dataset yelp_review_polarity_csv --num_filters 300 --decay 2e-4 --tag conv300x1_dc2e4_l200 --gpu {GPU} --mem 0.5\n",
    "yelp_models['WordCNN'] = model\n",
    "%run deep_model.py notebook --dataset yelp_review_polarity_csv --blocks 1,1,1,1 -v 2-layer9-run2 --gpu {GPU} --mem 0.5\n",
    "yelp_models['VDCNN-11'] = model\n",
    "yelp_data_char = dataset(x=x_shuffled, y=y_shuffled, vocab=solver.alphabet, lm=yelp_lm)\n",
    "\n",
    "yelp_nb_data = linear.load_dataset('yelp_review_polarity_csv')\n",
    "yelp_clf = linear.model(*yelp_nb_data)\n",
    "yelp_models['NB'] = solver.SklearnAdaptor(yelp_clf)"
   ]
  },
  {
   "cell_type": "markdown",
   "metadata": {},
   "source": [
    "## Generate Adversarial Examples"
   ]
  },
  {
   "cell_type": "code",
   "execution_count": null,
   "metadata": {
    "collapsed": false
   },
   "outputs": [],
   "source": [
    "yelp_results=dict()\n",
    "n = 10\n",
    "_ = generate_all(yelp_models, ['NB', 'VDCNN-11', 'WordCNN', 'LSTM'], yelp_data, yelp_data_char, n=n, results=yelp_results, \n",
    "             target_diffs=0.5, \n",
    "             lm_loss_limit=2.0,\n",
    "             target_proba=(0.9, ) )\n",
    "n_display = 10\n",
    "solver.show_results(yelp_results, (0.9, ), fraction_words=1.00, n = n_display)"
   ]
  },
  {
   "cell_type": "markdown",
   "metadata": {},
   "source": [
    "## Legacy Codes"
   ]
  },
  {
   "cell_type": "code",
   "execution_count": null,
   "metadata": {
    "collapsed": false
   },
   "outputs": [],
   "source": [
    "trec_models = dict()\n",
    "%run word_model.py test --tag lstm-mean --dropout 0.5,0.5 --num_filters 300 --dataset trec07p --gpu 1 --mem 0.4\n",
    "trec_lm = kenlm.LanguageModel('lm/trec07p_train.arpa.bin')\n",
    "trec_data = dataset(x=x_shuffled, y=y_shuffled, vocab=vocab, lm=trec_lm)\n",
    "trec_models['LSTM'] = model\n",
    "%run word_model.py test --tag conv300x1 --num_filters 300 --dropout 0.5 --dataset trec07p --gpu 1 --mem 0.4\n",
    "trec_models['WordCNN'] = model"
   ]
  },
  {
   "cell_type": "code",
   "execution_count": null,
   "metadata": {
    "collapsed": false
   },
   "outputs": [],
   "source": [
    "amazon_models=dict()\n",
    "%run word_model.py notebook --dataset amazon_review_polarity_csv --num_filters 300 --decay 2e-4 --tag conv300x1_dc2e4_l200 --gpu 1 --mem 0.25 --checkpoint 32000 \n",
    "amazon_models['WordCNN'] = model\n",
    "%run word_model.py notebook --dataset amazon_review_polarity_csv --num_filters 512 --decay 2e-4 --tag lstm-mean --gpu 1 --mem 0.25\n",
    "amazon_models['LSTM'] = model\n",
    "amazon_data = dataset(x=x_shuffled, y=y_shuffled, vocab=vocab, lm=kenlm.LanguageModel('lm/arpc_train.arpa.bin'))\n",
    "%run deep_model.py notebook --gpu 1 --dataset amazon_review_polarity_csv --mem 0.3 -v 2\n",
    "amazon_data_char = dataset(x=x_shuffled, y=y_shuffled, vocab=solver.alphabet, lm=amazon_data.lm)\n",
    "amazon_models['VDCNN'] = model\n",
    "amazon_nb_data = linear.load_dataset('amazon_review_polarity_csv')\n",
    "amazon_clf = linear.model(*amazon_nb_data)\n",
    "amazon_models['NB'] = solver.SklearnAdaptor(amazon_clf)"
   ]
  },
  {
   "cell_type": "code",
   "execution_count": null,
   "metadata": {
    "collapsed": false
   },
   "outputs": [],
   "source": [
    "imdb_models = dict()\n",
    "%run word_model.py notebook --dataset aclImdb --num_filters 512 --decay 2e-4 --tag lstm-mean --gpu 1 --mem 0.3 --checkpoint 352\n",
    "imdb_models['LSTM'] = model\n",
    "imdb_data = dataset(x=x_shuffled, y=y_shuffled, vocab=vocab, lm=kenlm.LanguageModel('lm/aclImdb_train.arpa.bin'))\n",
    "%run word_model.py notebook --dataset aclImdb --num_filters 300 --decay 2e-4 --tag conv300x1_dc2e4_l200 --gpu 1 --mem 0.25 --checkpoint 704 \n",
    "imdb_models['WordCNN'] = model\n",
    "imdb_nb_data = linear.load_dataset('aclImdb')\n",
    "imdb_clf = linear.model(*imdb_nb_data)\n",
    "imdb_models['NB'] = solver.SklearnAdaptor(imdb_clf)"
   ]
  },
  {
   "cell_type": "code",
   "execution_count": null,
   "metadata": {
    "collapsed": false
   },
   "outputs": [],
   "source": [
    "yelp_lm = kenlm.LanguageModel('lm/yrpc_train.arpa.bin')\n",
    "yelp_models = dict()\n",
    "dataset = namedtuple('Dataset', ['x', 'y', 'vocab', 'lm'])\n",
    "#%run word_model.py notebook --dataset yelp_review_polarity_csv --num_filters 512 --decay 2e-4 --tag lstm-mean --gpu 1 --mem 0.3 --checkpoint 7876\n",
    "#yelp_models['LSTM-I'] = model\n",
    "%run word_model.py notebook --dataset yelp_review_polarity_csv --num_filters 512 --decay 2e-4 --tag lstm-mean-2 --gpu {GPU} --mem 0.3 --checkpoint 7876\n",
    "yelp_models['LSTM'] = model\n",
    "yelp_data = dataset(x=x_shuffled, y=y_shuffled, vocab=vocab, lm=yelp_lm)\n",
    "%run word_model.py notebook --dataset yelp_review_polarity_csv --num_filters 300 --decay 2e-4 --tag conv300x1_dc2e4_l200 --gpu {GPU} --mem 0.25 --checkpoint 7876 \n",
    "yelp_models['WordCNN'] = model\n",
    "%run deep_model.py notebook --gpu {GPU} --dataset yelp_review_polarity_csv --mem 0.3\n",
    "yelp_models['VDCNN-19'] = model\n",
    "yelp_data_char = dataset(x=x_shuffled, y=y_shuffled, vocab=solver.alphabet, lm=yelp_lm)\n",
    "#%run deep_model.py notebook --gpu 1 --dataset yelp_review_polarity_csv --mem 0.4 --blocks 1,1,1,1 -v 2-layer9 --checkpoint 36000\n",
    "#yelp_models['VDCNN-11-I'] = model\n",
    "%run deep_model.py notebook --gpu {GPU} --dataset yelp_review_polarity_csv --mem 0.4 --blocks 1,1,1,1 -v 2-layer9-run2 --checkpoint 27566\n",
    "yelp_models['VDCNN-11'] = model\n",
    "\n",
    "yelp_nb_data = linear.load_dataset('yelp_review_polarity_csv')\n",
    "yelp_clf = linear.model(*yelp_nb_data)\n",
    "yelp_models['NB'] = solver.SklearnAdaptor(yelp_clf)"
   ]
  }
 ],
 "metadata": {
  "kernelspec": {
   "display_name": "Python 2",
   "language": "python",
   "name": "python2"
  },
  "language_info": {
   "codemirror_mode": {
    "name": "ipython",
    "version": 2
   },
   "file_extension": ".py",
   "mimetype": "text/x-python",
   "name": "python",
   "nbconvert_exporter": "python",
   "pygments_lexer": "ipython2",
   "version": "2.7.6"
  }
 },
 "nbformat": 4,
 "nbformat_minor": 0
}
